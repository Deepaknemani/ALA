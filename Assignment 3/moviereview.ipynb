{
 "cells": [
  {
   "cell_type": "code",
   "execution_count": 22,
   "metadata": {},
   "outputs": [],
   "source": [
    "import pandas as pd\n",
    "import numpy as np"
   ]
  },
  {
   "cell_type": "code",
   "execution_count": 23,
   "metadata": {},
   "outputs": [
    {
     "data": {
      "text/html": [
       "<div>\n",
       "<style scoped>\n",
       "    .dataframe tbody tr th:only-of-type {\n",
       "        vertical-align: middle;\n",
       "    }\n",
       "\n",
       "    .dataframe tbody tr th {\n",
       "        vertical-align: top;\n",
       "    }\n",
       "\n",
       "    .dataframe thead th {\n",
       "        text-align: right;\n",
       "    }\n",
       "</style>\n",
       "<table border=\"1\" class=\"dataframe\">\n",
       "  <thead>\n",
       "    <tr style=\"text-align: right;\">\n",
       "      <th></th>\n",
       "      <th>movie</th>\n",
       "      <th>review</th>\n",
       "    </tr>\n",
       "  </thead>\n",
       "  <tbody>\n",
       "    <tr>\n",
       "      <th>0</th>\n",
       "      <td>The Lord of the Rings The Two Towers</td>\n",
       "      <td>remarkable display of fantasy action powerful ...</td>\n",
       "    </tr>\n",
       "    <tr>\n",
       "      <th>1</th>\n",
       "      <td>Inception</td>\n",
       "      <td>implanting stealing idea destroy gripping acti...</td>\n",
       "    </tr>\n",
       "    <tr>\n",
       "      <th>2</th>\n",
       "      <td>Spiderman Across the spider verse</td>\n",
       "      <td>mind bending wild action sequences intimate em...</td>\n",
       "    </tr>\n",
       "    <tr>\n",
       "      <th>3</th>\n",
       "      <td>The Dark Knight</td>\n",
       "      <td>Best live action portrayal beat organized crim...</td>\n",
       "    </tr>\n",
       "    <tr>\n",
       "      <th>4</th>\n",
       "      <td>Three colors red</td>\n",
       "      <td>mesmerising friendship turned love profound un...</td>\n",
       "    </tr>\n",
       "  </tbody>\n",
       "</table>\n",
       "</div>"
      ],
      "text/plain": [
       "                                  movie  \\\n",
       "0  The Lord of the Rings The Two Towers   \n",
       "1                             Inception   \n",
       "2     Spiderman Across the spider verse   \n",
       "3                       The Dark Knight   \n",
       "4                      Three colors red   \n",
       "\n",
       "                                              review  \n",
       "0  remarkable display of fantasy action powerful ...  \n",
       "1  implanting stealing idea destroy gripping acti...  \n",
       "2  mind bending wild action sequences intimate em...  \n",
       "3  Best live action portrayal beat organized crim...  \n",
       "4  mesmerising friendship turned love profound un...  "
      ]
     },
     "execution_count": 23,
     "metadata": {},
     "output_type": "execute_result"
    }
   ],
   "source": [
    "data = pd.read_csv('moviereviews.csv')\n",
    "data.head()"
   ]
  },
  {
   "cell_type": "code",
   "execution_count": 24,
   "metadata": {},
   "outputs": [],
   "source": [
    "movies = df[\"movie\"].tolist()\n",
    "movie_vectors = {}"
   ]
  },
  {
   "cell_type": "code",
   "execution_count": 25,
   "metadata": {},
   "outputs": [],
   "source": [
    "for movie in movies:\n",
    "    vector = np.random.rand(300)  \n",
    "    movie_vectors[movie] = vector\n",
    "similar_movies = []\n",
    "for movie1 in movie_vectors:\n",
    "    for movie2 in movie_vectors:\n",
    "        if movie1 != movie2:\n",
    "            vector1 = movie_vectors[movie1]\n",
    "            vector2 = movie_vectors[movie2]\n",
    "\n",
    "            dot_product = np.dot(vector1, vector2)\n",
    "            magnitude1 = np.linalg.norm(vector1)\n",
    "            magnitude2 = np.linalg.norm(vector2)\n",
    "\n",
    "           \n",
    "            angle = np.arccos(dot_product / (magnitude1 * magnitude2))\n",
    "\n",
    "            similar_movies.append((movie1, movie2, angle))\n",
    "similar_movies.sort(key=lambda x: x[2])\n"
   ]
  },
  {
   "cell_type": "code",
   "execution_count": 26,
   "metadata": {},
   "outputs": [
    {
     "name": "stdout",
     "output_type": "stream",
     "text": [
      "Top similar movie pairs:\n",
      "Movies 'Inception' and 'Three colors red' with angle similarity of 0.65 radians.\n",
      "Movies 'Three colors red' and 'Inception' with angle similarity of 0.65 radians.\n",
      "Movies 'It happened one night' and 'In the Mood for Love' with angle similarity of 0.65 radians.\n"
     ]
    }
   ],
   "source": [
    "print(\"Top similar movie pairs:\")\n",
    "for pair in similar_movies[:3]:\n",
    "    print(f\"Movies '{pair[0]}' and '{pair[1]}' with angle similarity of {pair[2]:.2f} radians.\")"
   ]
  }
 ],
 "metadata": {
  "kernelspec": {
   "display_name": "base",
   "language": "python",
   "name": "python3"
  },
  "language_info": {
   "codemirror_mode": {
    "name": "ipython",
    "version": 3
   },
   "file_extension": ".py",
   "mimetype": "text/x-python",
   "name": "python",
   "nbconvert_exporter": "python",
   "pygments_lexer": "ipython3",
   "version": "3.11.4"
  },
  "orig_nbformat": 4
 },
 "nbformat": 4,
 "nbformat_minor": 2
}
